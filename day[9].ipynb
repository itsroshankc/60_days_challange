{
 "cells": [
  {
   "cell_type": "markdown",
   "id": "bb06ec4c-04d8-474d-947f-782166239530",
   "metadata": {},
   "source": [
    "# Python Day X\n",
    "\n",
    "### File Handling"
   ]
  },
  {
   "cell_type": "markdown",
   "id": "e4291fb2-a7d6-4165-b125-692cf290ead1",
   "metadata": {},
   "source": [
    "#### The open() function takes two parameters; filename, and mode.\n",
    "\n",
    "There are four different methods (modes) for opening a file:\n",
    "\n",
    "\"r\" - Read - Default value. Opens a file for reading, error if the file does not exist\n",
    "\n",
    "\"a\" - Append - Opens a file for appending, creates the file if it does not exist\n",
    "\n",
    "\"w\" - Write - Opens a file for writing, creates the file if it does not exist\n",
    "\n",
    "\"x\" - Create - Creates the specified file, returns an error if the file exists\n",
    "\n",
    "In addition you can specify if the file should be handled as binary or text mode\n",
    "\n",
    "\"t\" - Text - Default value. Text mode\n",
    "\n",
    "\"b\" - Binary - Binary mode (e.g. images)\n",
    "\n",
    "### Syntax"
   ]
  },
  {
   "cell_type": "code",
   "execution_count": 5,
   "id": "3ff4133c-6c79-49e2-9ab3-c1ca6f5ce476",
   "metadata": {},
   "outputs": [],
   "source": [
    "# To open a file for reading it is enough to specify the name of the file:\n",
    "\n",
    "# f = open(\"demo.txt\")\n",
    "\n",
    "# or \n",
    "\n",
    "# f = open(\"demo.txt\",\"rt\")\n",
    "\n",
    "#Note: Make sure the file exists, or else you will get an error."
   ]
  },
  {
   "cell_type": "markdown",
   "id": "65c34e61-4842-4a9a-b897-403032747a76",
   "metadata": {},
   "source": [
    " Because \"r\" for read, and \"t\" for text are the default values, you do not need to specify them.\n",
    " \n",
    " \n",
    " ### To open the file, use the built-in open() function.\n",
    "\n",
    "The open() function returns a file object, which has a read() method for reading the content of the file:"
   ]
  },
  {
   "cell_type": "code",
   "execution_count": 10,
   "id": "a83893f6-654b-4800-b8cf-67eacf05efc0",
   "metadata": {},
   "outputs": [
    {
     "name": "stdout",
     "output_type": "stream",
     "text": [
      "Hello! Welcome to demofile.txt\n",
      "This file is for testing purposes.\n",
      "Good Luck!\n"
     ]
    }
   ],
   "source": [
    "f = open(\"demofile.txt\",\"r\")\n",
    "\n",
    "print(f.read())"
   ]
  },
  {
   "cell_type": "code",
   "execution_count": 11,
   "id": "07256d14-fb72-499c-83fe-ab6f58f7af28",
   "metadata": {},
   "outputs": [
    {
     "name": "stdout",
     "output_type": "stream",
     "text": [
      "Hello\n"
     ]
    }
   ],
   "source": [
    "f = open(\"demofile.txt\",\"r\")\n",
    "\n",
    "#print(f.read())\n",
    "print(f.read(5))"
   ]
  },
  {
   "cell_type": "code",
   "execution_count": 13,
   "id": "9af363cb-e16b-41bb-9979-d5481779b637",
   "metadata": {},
   "outputs": [
    {
     "name": "stdout",
     "output_type": "stream",
     "text": [
      "Hello! Welcome to demofile.txt\n",
      "\n",
      "This file is for testing purposes.\n",
      "\n"
     ]
    }
   ],
   "source": [
    "f = open(\"demofile.txt\",\"r\")\n",
    "\n",
    "print(f.readline())\n",
    "print(f.readline())"
   ]
  },
  {
   "cell_type": "markdown",
   "id": "ff1ac5be-8ff0-4acc-83c7-d6bf3fb55629",
   "metadata": {},
   "source": [
    "### By looping through the lines of the file, you can read the whole file, line by line:"
   ]
  },
  {
   "cell_type": "code",
   "execution_count": 16,
   "id": "5f6e1048-17ad-4236-ba54-581be17e9af5",
   "metadata": {},
   "outputs": [
    {
     "name": "stdout",
     "output_type": "stream",
     "text": [
      "Hello! Welcome to demofile.txt\n",
      "\n",
      "This file is for testing purposes.\n",
      "\n",
      "Good Luck!\n"
     ]
    }
   ],
   "source": [
    "f = open(\"demofile.txt\",\"r\")\n",
    "\n",
    "for x in f :\n",
    "    print(x)\n",
    "\n",
    "#closing a file to save memory\n",
    "f.close()"
   ]
  },
  {
   "cell_type": "markdown",
   "id": "71431245-0141-4e84-928f-b99d95ca4b8c",
   "metadata": {},
   "source": [
    "#### Note: You should always close your files, in some cases, due to buffering, changes made to a file may not show until you close the file."
   ]
  },
  {
   "cell_type": "markdown",
   "id": "4f23f3d3-4414-482c-9e8d-711418877991",
   "metadata": {},
   "source": [
    "### Python File Write\n",
    "\n",
    "Write to an Existing File\n",
    "To write to an existing file, you must add a parameter to the open() function:\n",
    "\n",
    "\"a\" - Append - will append to the end of the file\n",
    "\n",
    "\"w\" - Write - will overwrite any existing content"
   ]
  },
  {
   "cell_type": "code",
   "execution_count": 21,
   "id": "a085de26-851f-499a-9a04-fbb4535416a9",
   "metadata": {},
   "outputs": [
    {
     "name": "stdout",
     "output_type": "stream",
     "text": [
      "Hello! Welcome to demofile.txt\n",
      "This file is for testing purposes.\n",
      "Good Luck!\n",
      " I'm added to file\n"
     ]
    }
   ],
   "source": [
    "# Open \"demofile.txt\" and append content to the file:\n",
    "\n",
    "f = open(\"demofile.txt\",\"a\") # a = append\n",
    "\n",
    "f.write(\"\\n I'm added to file\")\n",
    "f.close()\n",
    "\n",
    "f = open(\"demofile.txt\",\"r\")\n",
    "print(f.read())\n",
    "\n",
    "f.close()\n"
   ]
  },
  {
   "cell_type": "code",
   "execution_count": 26,
   "id": "51fbf927-c670-414f-95e6-6880743ae5ca",
   "metadata": {},
   "outputs": [
    {
     "name": "stdout",
     "output_type": "stream",
     "text": [
      "Hello! Welcome to demofile.txt\n",
      "\n",
      "This file is for testing purposes.\n",
      "\n",
      "Good Luck!\n",
      "\n",
      " I'm added to file\n"
     ]
    }
   ],
   "source": [
    "# lets read the file demofile.txt\n",
    "\n",
    "f = open(\"demofile.txt\",\"r\")\n",
    "\n",
    "#print(f.read())\n",
    "#print(f.readline())\n",
    "\n",
    "for x in f:\n",
    "    print(x)"
   ]
  },
  {
   "cell_type": "code",
   "execution_count": 28,
   "id": "c4ad2f2f-c228-413f-90ac-31fb76ec3d14",
   "metadata": {},
   "outputs": [],
   "source": [
    "# lets append and add \"hello world\"\n",
    "\n",
    "f = open(\"demofile.txt\",\"a\")\n",
    "\n",
    "f.write(\"Hello World\")\n",
    "\n",
    "f.close()"
   ]
  },
  {
   "cell_type": "code",
   "execution_count": 30,
   "id": "f395c5ea-53a4-4544-b922-63d3ec0b2b99",
   "metadata": {},
   "outputs": [
    {
     "name": "stdout",
     "output_type": "stream",
     "text": [
      "Hello! Welcome to demofile.txt\n",
      "\n",
      "This file is for testing purposes.\n",
      "\n",
      "Good Luck!\n",
      "\n",
      " I'm added to fileHello World\n"
     ]
    }
   ],
   "source": [
    "f = open(\"demofile.txt\",\"r\")\n",
    "for x in f:\n",
    "    print(x)"
   ]
  },
  {
   "cell_type": "markdown",
   "id": "a8bb690b-5527-4d0e-a91b-49899db61b98",
   "metadata": {},
   "source": [
    "## Create a New File\n",
    "\n",
    "To create a new file in Python, use the open() method, with one of the following parameters:\n",
    "\n",
    "\"x\" - Create - will create a file, returns an error if the file exist\n",
    "\n",
    "\"a\" - Append - will create a file if the specified file does not exist\n",
    "\n",
    "\"w\" - Write - will create a file if the specified file does not exist"
   ]
  },
  {
   "cell_type": "code",
   "execution_count": 31,
   "id": "14d5d0c4-8b13-4c70-b902-6be84ce72ce1",
   "metadata": {},
   "outputs": [],
   "source": [
    "# create a file named firstfile.txt\n",
    "\n",
    "f = open(\"firstfile.txt\",\"x\")\n",
    "\n",
    "f.write(\"Helloworld\")\n",
    "\n",
    "f.close()"
   ]
  },
  {
   "cell_type": "code",
   "execution_count": 32,
   "id": "2ef2bce9-129d-4802-97d6-cf0a7f88ae55",
   "metadata": {},
   "outputs": [
    {
     "name": "stdout",
     "output_type": "stream",
     "text": [
      "Helloworld\n"
     ]
    }
   ],
   "source": [
    "f = open(\"firstfile.txt\",\"r\")\n",
    "\n",
    "print(f.read())"
   ]
  },
  {
   "cell_type": "markdown",
   "id": "eff2cf40-faa7-473f-b6a1-5b5278a5cd6b",
   "metadata": {},
   "source": [
    "## Deleting a file\n",
    "\n",
    "To delete a file, you must import the OS module, and run its os.remove() function:"
   ]
  },
  {
   "cell_type": "code",
   "execution_count": 1,
   "id": "4070ed2b-8e7f-4afc-8c52-82acbc82a736",
   "metadata": {},
   "outputs": [],
   "source": [
    "import os\n",
    "\n",
    "os.remove(\"myfile.txt\")"
   ]
  },
  {
   "cell_type": "markdown",
   "id": "e50720a0-9885-49e2-b71e-fd5a04ceb96e",
   "metadata": {},
   "source": [
    "##### To avoid getting an error, you might want to check if the file exists before you try to delete it:\n",
    "\n",
    "### Check if File exist:"
   ]
  },
  {
   "cell_type": "code",
   "execution_count": 6,
   "id": "05f63080-e5be-4a0b-a18e-8103144dfc99",
   "metadata": {},
   "outputs": [],
   "source": [
    "f = open(\"temp.txt\",\"x\")\n",
    "\n",
    "f.write(\"jpt\")\n",
    "\n",
    "f.close()"
   ]
  },
  {
   "cell_type": "code",
   "execution_count": 7,
   "id": "95bdd8c9-05b0-404b-be40-74884b8f1dea",
   "metadata": {},
   "outputs": [
    {
     "name": "stdout",
     "output_type": "stream",
     "text": [
      "temp.txt , file is removed Successfully!\n"
     ]
    }
   ],
   "source": [
    "import os\n",
    "\n",
    "if os.path.exists(\"temp.txt\"):\n",
    "    os.remove(\"temp.txt\")\n",
    "    print(\"temp.txt , file is removed Successfully!\")\n",
    "else:\n",
    "    print(\"No such file exist.\")"
   ]
  },
  {
   "cell_type": "markdown",
   "id": "4375d896-be60-4fe8-b1d4-a89e720e08ea",
   "metadata": {},
   "source": [
    "## Delete Folder\n",
    "\n",
    "To delete an entire folder, use the os.rmdir() method:"
   ]
  },
  {
   "cell_type": "code",
   "execution_count": 10,
   "id": "7f48a074-f9f2-4623-b18b-300c3264b24e",
   "metadata": {},
   "outputs": [],
   "source": [
    "import os\n",
    "os.mkdir(\"text folder\")"
   ]
  },
  {
   "cell_type": "code",
   "execution_count": 17,
   "id": "03a2cea9-79cd-497d-880c-34ebd0a8a403",
   "metadata": {},
   "outputs": [],
   "source": [
    "os.rmdir(\"text folder\")"
   ]
  },
  {
   "cell_type": "markdown",
   "id": "9dcfe722-b0c2-46e5-87fa-a982ee4f51fd",
   "metadata": {},
   "source": [
    "# ---- EndIng Of Python Basics -----"
   ]
  }
 ],
 "metadata": {
  "kernelspec": {
   "display_name": "Python 3 (ipykernel)",
   "language": "python",
   "name": "python3"
  },
  "language_info": {
   "codemirror_mode": {
    "name": "ipython",
    "version": 3
   },
   "file_extension": ".py",
   "mimetype": "text/x-python",
   "name": "python",
   "nbconvert_exporter": "python",
   "pygments_lexer": "ipython3",
   "version": "3.10.9"
  }
 },
 "nbformat": 4,
 "nbformat_minor": 5
}
