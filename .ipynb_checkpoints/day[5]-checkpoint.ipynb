{
 "cells": [
  {
   "cell_type": "markdown",
   "id": "769966b3",
   "metadata": {},
   "source": [
    "# Python Day 6"
   ]
  },
  {
   "cell_type": "code",
   "execution_count": 5,
   "id": "af747dba",
   "metadata": {},
   "outputs": [
    {
     "name": "stdout",
     "output_type": "stream",
     "text": [
      "3\n",
      "3\n",
      "2\n",
      "1\n",
      "0\n"
     ]
    }
   ],
   "source": [
    "x = int(input())\n",
    "while x>-1 :\n",
    "    print(x)\n",
    "    x-=1"
   ]
  },
  {
   "cell_type": "markdown",
   "id": "115d1256-e743-4ca5-bcc1-fc15ab3215dd",
   "metadata": {},
   "source": [
    "## Tuples\n",
    "### -> Tuple items can be of any data type.\n",
    "tuple1 = (\"abc\", 34, True, 40, \"male\")"
   ]
  },
  {
   "cell_type": "code",
   "execution_count": 3,
   "id": "86774adb",
   "metadata": {},
   "outputs": [
    {
     "name": "stdout",
     "output_type": "stream",
     "text": [
      "<class 'tuple'>\n",
      "4\n",
      "('apple', 'ball', 'cat', 'dog')\n"
     ]
    }
   ],
   "source": [
    "mytuple = (\"apple\",\"ball\",\"cat\",\"dog\")\n",
    "\n",
    "print(type(mytuple))\n",
    "print(len(mytuple))\n",
    "print(mytuple)"
   ]
  },
  {
   "cell_type": "markdown",
   "id": "f30292fc-0466-4911-af78-a5f9958b3306",
   "metadata": {},
   "source": [
    "# Create Tuple With One Item\n"
   ]
  },
  {
   "cell_type": "code",
   "execution_count": 5,
   "id": "72f67ca8-715e-4431-ae41-2306b0a305c3",
   "metadata": {},
   "outputs": [
    {
     "name": "stdout",
     "output_type": "stream",
     "text": [
      "<class 'tuple'>\n"
     ]
    }
   ],
   "source": [
    "validtuple = ( \"apple\" , )\n",
    "# always remember to use comma at the , last in tuple\n",
    "print(type(validtuple))\n",
    "\n",
    "\n",
    "\n",
    "\n",
    "#Not a tuple\n",
    "# thistuple = (\"apple\")\n",
    "# print(type(thistupple))"
   ]
  },
  {
   "cell_type": "markdown",
   "id": "7faba19b-6566-4d9b-95db-0be25588e9e0",
   "metadata": {},
   "source": [
    "## The tuple() Constructor"
   ]
  },
  {
   "cell_type": "code",
   "execution_count": 10,
   "id": "ef07302c-33ab-47d4-8a37-aae7234f7e07",
   "metadata": {},
   "outputs": [
    {
     "name": "stdout",
     "output_type": "stream",
     "text": [
      "('apple', 'ball', 'cat', 'dog')\n"
     ]
    }
   ],
   "source": [
    "tuple1 = tuple((\"apple\",\"ball\",\"cat\",\"dog\"))\n",
    "\n",
    "print(tuple1)"
   ]
  },
  {
   "cell_type": "code",
   "execution_count": 12,
   "id": "f969415c-e38b-4f87-8099-665a2852087c",
   "metadata": {},
   "outputs": [
    {
     "name": "stdout",
     "output_type": "stream",
     "text": [
      "apple\n",
      "dog\n",
      "('ball', 'cat')\n"
     ]
    }
   ],
   "source": [
    "print(tuple1[0])\n",
    "\n",
    "print(tuple1[-1])\n",
    "\n",
    "print(tuple1[1:3])"
   ]
  },
  {
   "cell_type": "markdown",
   "id": "29db3c26-5638-4193-9c7d-5bfa21494c8d",
   "metadata": {},
   "source": [
    "<h2>Once a tuple is created, you cannot change its values. Tuples are unchangeable, or immutable as it also is called.\n",
    "\n",
    "But there is a workaround. You can convert the tuple into a list, change the list, and convert the list back into a tuple."
   ]
  },
  {
   "cell_type": "code",
   "execution_count": 13,
   "id": "64410a49-39dd-4eaa-b067-42ffb16f76fb",
   "metadata": {},
   "outputs": [
    {
     "name": "stdout",
     "output_type": "stream",
     "text": [
      "('naam', 'aata', 'pata', 'ghar')\n",
      "('naam', 'kata', 'pata', 'ghar')\n"
     ]
    }
   ],
   "source": [
    "mytuple = (\"naam\",\"aata\",\"pata\",\"ghar\")\n",
    "print(mytuple)\n",
    "\n",
    "mylist = list(mytuple)\n",
    "\n",
    "mylist[1] = \"kata\"\n",
    "\n",
    "mytuple = tuple(mylist)\n",
    "\n",
    "print(mytuple)"
   ]
  },
  {
   "cell_type": "markdown",
   "id": "e59559c2-1c1e-4b85-be93-769bf3c81dd9",
   "metadata": {},
   "source": [
    "# Python - Unpack Tuples\n",
    "\n",
    "The number of variables must match the number of values in the tuple, if not, you must use an asterisk to collect the remaining values as a list."
   ]
  },
  {
   "cell_type": "code",
   "execution_count": 19,
   "id": "1fed9442-8182-46f9-9f8d-63e2283e9ea0",
   "metadata": {},
   "outputs": [
    {
     "name": "stdout",
     "output_type": "stream",
     "text": [
      "apple\n",
      "banana\n",
      "['cherry', 'duitacherry', 'eautacherry']\n",
      "cherry\n",
      "duitacherry\n",
      "eautacherry\n"
     ]
    }
   ],
   "source": [
    "fruits = (\"apple\",\"banana\",\"cherry\",\"duitacherry\",\"eautacherry\")\n",
    "\n",
    "(first,second,*rest) = fruits\n",
    "# the asterisk one becomse list\n",
    "\n",
    "print(first)\n",
    "print(second)\n",
    "print(rest)\n",
    "\n",
    "for x in rest:\n",
    "    print(x)"
   ]
  },
  {
   "cell_type": "markdown",
   "id": "7a2737d0-a413-4860-aee4-1902ae35bc64",
   "metadata": {},
   "source": [
    "# Multiply Tuples\n",
    "If you want to multiply the content of a tuple a given number of times, you can use the * operator:|"
   ]
  },
  {
   "cell_type": "code",
   "execution_count": 21,
   "id": "5b334b38-2c70-46f7-a766-be91433b5b0c",
   "metadata": {},
   "outputs": [
    {
     "name": "stdout",
     "output_type": "stream",
     "text": [
      "('apple', 'banana', 'cherry', 'apple', 'banana', 'cherry')\n"
     ]
    }
   ],
   "source": [
    "fruits = (\"apple\", \"banana\", \"cherry\")\n",
    "mytuple = fruits * 2\n",
    "\n",
    "print(mytuple)\n"
   ]
  },
  {
   "cell_type": "code",
   "execution_count": 23,
   "id": "6db42594-569e-44c0-a889-970a862eab0e",
   "metadata": {},
   "outputs": [
    {
     "name": "stdout",
     "output_type": "stream",
     "text": [
      "2\n"
     ]
    }
   ],
   "source": [
    "# Python Tuple count() Method\n",
    "thistuple = (1, 3, 7, 8, 7, 5, 4, 6, 8, 5)\n",
    "\n",
    "x = thistuple.count(5)\n",
    "\n",
    "print(x)"
   ]
  },
  {
   "cell_type": "code",
   "execution_count": 32,
   "id": "95130c11-255c-434e-982e-17f95e2151dd",
   "metadata": {},
   "outputs": [
    {
     "name": "stdout",
     "output_type": "stream",
     "text": [
      "2\n"
     ]
    }
   ],
   "source": [
    "# Python Tuple index() Method\n",
    "# Search for the first occurrence of the value 8, \n",
    "# and return its position:\n",
    "\n",
    "thistuple = (1, 3, 8, 6, 7, 5, 4, 6, 5 , 0 ,8)\n",
    "\n",
    "x = thistuple.index(8)\n",
    "\n",
    "print(x)"
   ]
  },
  {
   "cell_type": "code",
   "execution_count": null,
   "id": "1624212e-9e50-490f-99a4-ff4663fbde8e",
   "metadata": {},
   "outputs": [],
   "source": []
  },
  {
   "cell_type": "code",
   "execution_count": null,
   "id": "24eda9f5-d603-4bf9-b96f-6fb5b90b4a36",
   "metadata": {},
   "outputs": [],
   "source": []
  },
  {
   "cell_type": "code",
   "execution_count": null,
   "id": "bf5faf2f-5fa9-44cf-92a2-073d2c67b8ba",
   "metadata": {},
   "outputs": [],
   "source": []
  },
  {
   "cell_type": "markdown",
   "id": "7e45dbaa-5e65-4d87-9001-496e7a6a46fb",
   "metadata": {},
   "source": [
    "# Python Sets\n",
    "\n",
    "<h2>Set items are <i>unchangeable</i>, meaning that we cannot change the items after the set has been created.\n",
    "\n",
    "Once a set is created, you cannot change its items, but you can remove items and add new items."
   ]
  },
  {
   "cell_type": "code",
   "execution_count": 35,
   "id": "3e9e8fcf-fc31-446e-8625-247649a8862e",
   "metadata": {},
   "outputs": [
    {
     "name": "stdout",
     "output_type": "stream",
     "text": [
      "{0, 1, 3, 4, 5, 6, 7, 8}\n"
     ]
    }
   ],
   "source": [
    "myset = set(thistuple)\n",
    "# {0, 1, 3, 4, 5, 6, 7, 8} mathi ko tuple bata\n",
    "# data aai raxa \n",
    "\n",
    "print(myset)"
   ]
  },
  {
   "cell_type": "markdown",
   "id": "35761f0c-253d-4ba2-9534-91389aba3e66",
   "metadata": {},
   "source": [
    "# Duplicates Not Allowed\n",
    "\n",
    "Note : The values True and 1 are considered the same value in sets, and are treated as duplicates:"
   ]
  },
  {
   "cell_type": "code",
   "execution_count": null,
   "id": "6858a253-38e7-4c53-99b2-5bd278cea20a",
   "metadata": {},
   "outputs": [
    {
     "name": "stdout",
     "output_type": "stream",
     "text": [
      "{'c', True, 'd', 'b', 'a'}\n"
     ]
    }
   ],
   "source": [
    "myset = {\"a\",\"b\",\"c\",\"d\",True,1}\n",
    "    \n",
    "print(myset)"
   ]
  },
  {
   "cell_type": "code",
   "execution_count": 59,
   "id": "1f6508a2-a6ee-4b5a-954c-4d673e73be61",
   "metadata": {},
   "outputs": [
    {
     "name": "stdout",
     "output_type": "stream",
     "text": [
      "c\n",
      "True\n",
      "d\n",
      "b\n",
      "a\n"
     ]
    },
    {
     "data": {
      "text/plain": [
       "'\\ni = 0\\nwhile i < len(myset) :\\n    print(myset[i])\\n    i+=1\\n'"
      ]
     },
     "execution_count": 62,
     "metadata": {},
     "output_type": "execute_result"
    }
   ],
   "source": [
    "# using for loop to unpack\n",
    "for x in myset:\n",
    "    print(x)\n",
    "    \n",
    "#using while loop to unpack\n",
    "\"\"\"\n",
    "i = 0\n",
    "while i < len(myset) :\n",
    "    print(myset[i])\n",
    "    i+=1\n",
    "\"\"\""
   ]
  },
  {
   "cell_type": "markdown",
   "id": "e4979e12-ecb3-40e2-9be3-a12e36dbef8b",
   "metadata": {},
   "source": [
    "# Python - Add Set Items"
   ]
  },
  {
   "cell_type": "code",
   "execution_count": 63,
   "id": "a43cd5e7-564c-41c7-a969-2982dd2cd994",
   "metadata": {},
   "outputs": [
    {
     "name": "stdout",
     "output_type": "stream",
     "text": [
      "{'c', True, 'd', 'b', 'a'}\n",
      "{'c', True, 'donkey', 'd', 'b', 'a'}\n"
     ]
    }
   ],
   "source": [
    "print(myset)\n",
    "myset.add(\"donkey\")\n",
    "print(myset)"
   ]
  },
  {
   "cell_type": "markdown",
   "id": "22292b07-233c-45cc-b901-c0b548bc6649",
   "metadata": {},
   "source": [
    "## update() method.\n"
   ]
  },
  {
   "cell_type": "code",
   "execution_count": 75,
   "id": "bba47773-9229-4fee-b59a-44c261be8193",
   "metadata": {},
   "outputs": [
    {
     "name": "stdout",
     "output_type": "stream",
     "text": [
      "{'c', 'd', 'f', 'b', 'e', 'a'}\n"
     ]
    }
   ],
   "source": [
    "set1 = {\"a\",\"b\",\"c\"}\n",
    "set2 = {\"d\",\"e\",\"f\"}\n",
    "\n",
    "set1.update(set2)\n",
    "\n",
    "print(set1)"
   ]
  },
  {
   "cell_type": "markdown",
   "id": "942deb4e-2c02-4257-beae-852a98a4d2c7",
   "metadata": {},
   "source": [
    "# Remove() v/s discard() v/s pop()\n",
    "\n",
    "Remove() : If the item to remove does not exist, remove() will raise an error.\n",
    "\n",
    "whereas\n",
    "\n",
    "discard() : If the item to remove does not exist, discard() will NOT raise an error.\n",
    "\n",
    "whereas \n",
    "\n",
    "pop() : Sets are unordered, so when using the pop() method, you do not know which item that gets removed.\n",
    "\n"
   ]
  },
  {
   "cell_type": "code",
   "execution_count": 76,
   "id": "fa7766d6-4c88-4878-9829-f0bd7f5f3e6f",
   "metadata": {},
   "outputs": [
    {
     "name": "stdout",
     "output_type": "stream",
     "text": [
      "{'c', 'd', 'f', 'b', 'e', 'a'}\n",
      "{'c', 'd', 'f', 'e', 'a'}\n"
     ]
    }
   ],
   "source": [
    "print(set1)\n",
    "set1.remove(\"b\")\n",
    "# NOTE:If the item to remove does not exist, remove() will raise an error.\n",
    "\n",
    "print(set1)"
   ]
  },
  {
   "cell_type": "code",
   "execution_count": 77,
   "id": "15df18be-029c-45a2-a529-9a6f6afebbce",
   "metadata": {},
   "outputs": [
    {
     "name": "stdout",
     "output_type": "stream",
     "text": [
      "{'c', 'd', 'f', 'e', 'a'}\n",
      "{'c', 'd', 'f', 'e', 'a'}\n"
     ]
    }
   ],
   "source": [
    "print(set1)\n",
    "set1.discard(\"b\")\n",
    "# NOTE:If the item to remove does not exist, discard() will NOT raise an error.\n",
    "\n",
    "print(set1)"
   ]
  },
  {
   "cell_type": "code",
   "execution_count": 79,
   "id": "fb2becfc-c4a2-47b0-913d-4b9ab2140583",
   "metadata": {},
   "outputs": [
    {
     "name": "stdout",
     "output_type": "stream",
     "text": [
      "{'d', 'f', 'e', 'a'}\n",
      "d\n"
     ]
    }
   ],
   "source": [
    "print(set1)\n",
    "print(set1.pop())\n",
    "\n",
    "# The return value of the pop() method is the removed item."
   ]
  },
  {
   "cell_type": "markdown",
   "id": "313b5fa0-9db8-4e08-8ff3-0b1bbf85c10e",
   "metadata": {},
   "source": [
    "# Python - Join Sets\n",
    "\n",
    "1. union()\n",
    "2. update()\n",
    "3. intersection_update()\n",
    "4. intersection()\n",
    "5. symmetric_difference_update()\n",
    "6. symmetric_difference()"
   ]
  },
  {
   "cell_type": "code",
   "execution_count": null,
   "id": "31d9f377-e908-4f56-9cd2-c2d8dbb7fbec",
   "metadata": {},
   "outputs": [],
   "source": []
  },
  {
   "cell_type": "code",
   "execution_count": null,
   "id": "d751f70c-8678-4103-8c1b-3ded10e9c837",
   "metadata": {},
   "outputs": [],
   "source": []
  },
  {
   "cell_type": "markdown",
   "id": "319f35aa-edce-40d1-9c69-23c3e78c842d",
   "metadata": {},
   "source": [
    "# Python Dictionaries"
   ]
  },
  {
   "cell_type": "code",
   "execution_count": 81,
   "id": "0c3b1198-2a55-4bce-9674-c18274051646",
   "metadata": {},
   "outputs": [],
   "source": [
    "thisdict = {\n",
    "  \"brand\": \"Ford\",\n",
    "  \"model\": \"Mustang\",\n",
    "  \"year\": 1964\n",
    "}"
   ]
  },
  {
   "cell_type": "code",
   "execution_count": 82,
   "id": "a4ccc02f-4e1a-48cb-b293-ac2ffd8c6db8",
   "metadata": {},
   "outputs": [
    {
     "name": "stdout",
     "output_type": "stream",
     "text": [
      "{'brand': 'Ford', 'model': 'Mustang', 'year': 1964}\n"
     ]
    }
   ],
   "source": [
    "print(thisdict)"
   ]
  },
  {
   "cell_type": "code",
   "execution_count": 83,
   "id": "2c09975e-37c9-4888-a3ea-bdc9265e00ba",
   "metadata": {},
   "outputs": [
    {
     "name": "stdout",
     "output_type": "stream",
     "text": [
      "Ford\n"
     ]
    }
   ],
   "source": [
    "print(thisdict[\"brand\"])"
   ]
  },
  {
   "cell_type": "code",
   "execution_count": 84,
   "id": "63c6dda5-801d-46d2-b452-f55863523b17",
   "metadata": {},
   "outputs": [
    {
     "name": "stdout",
     "output_type": "stream",
     "text": [
      "3\n"
     ]
    }
   ],
   "source": [
    "print(len(thisdict))"
   ]
  },
  {
   "cell_type": "code",
   "execution_count": 93,
   "id": "a3ff19ce-0ab1-4e8e-a982-60bcf6f646fc",
   "metadata": {},
   "outputs": [],
   "source": [
    "mydict = {\n",
    "  \"brand\": \"Ford\",\n",
    "  \"electric\": False,\n",
    "  \"year\": 1964,\n",
    "  \"colors\": [\"red\", \"white\", \"blue\"]\n",
    "}"
   ]
  },
  {
   "cell_type": "code",
   "execution_count": 86,
   "id": "64ea8040-1124-4488-ba4f-2d8f8a61b03c",
   "metadata": {},
   "outputs": [
    {
     "name": "stdout",
     "output_type": "stream",
     "text": [
      "<class 'dict'>\n"
     ]
    }
   ],
   "source": [
    "print(type(mydict))"
   ]
  },
  {
   "cell_type": "markdown",
   "id": "54c4d15e-49dd-45e4-8176-5cf2642cf7fa",
   "metadata": {},
   "source": [
    "## Accessing Items"
   ]
  },
  {
   "cell_type": "code",
   "execution_count": 88,
   "id": "a7e0f8b0-e192-4b27-bb85-651fa8e5864e",
   "metadata": {},
   "outputs": [
    {
     "name": "stdout",
     "output_type": "stream",
     "text": [
      "1964\n"
     ]
    }
   ],
   "source": [
    "temp = mydict[\"year\"]\n",
    "\n",
    "print(temp)"
   ]
  },
  {
   "cell_type": "code",
   "execution_count": 89,
   "id": "424e92c4-a191-4b05-9a20-76cb0b395c31",
   "metadata": {},
   "outputs": [
    {
     "name": "stdout",
     "output_type": "stream",
     "text": [
      "Ford\n"
     ]
    }
   ],
   "source": [
    "temp = mydict.get(\"brand\")\n",
    "print(temp)"
   ]
  },
  {
   "cell_type": "code",
   "execution_count": 90,
   "id": "f56587c8-5490-4413-aad7-05fe5a8fbe77",
   "metadata": {},
   "outputs": [
    {
     "name": "stdout",
     "output_type": "stream",
     "text": [
      "dict_keys(['brand', 'electric', 'year', 'colors'])\n"
     ]
    }
   ],
   "source": [
    "# get keys\n",
    "\n",
    "print(mydict.keys())"
   ]
  },
  {
   "cell_type": "code",
   "execution_count": 94,
   "id": "568dc5ff-8827-44a8-a5ad-3adc83b5f849",
   "metadata": {},
   "outputs": [
    {
     "name": "stdout",
     "output_type": "stream",
     "text": [
      "dict_keys(['brand', 'electric', 'year', 'colors'])\n",
      "dict_keys(['brand', 'electric', 'year', 'colors', 'rang'])\n"
     ]
    }
   ],
   "source": [
    "x = mydict.keys()\n",
    "\n",
    "print(x)\n",
    "\n",
    "mydict[\"rang\"] = \"kalo\"\n",
    "\n",
    "print(x)"
   ]
  },
  {
   "cell_type": "code",
   "execution_count": 96,
   "id": "e97d3f0e-e55f-44ac-9fd9-f6817f7c430e",
   "metadata": {},
   "outputs": [
    {
     "name": "stdout",
     "output_type": "stream",
     "text": [
      "dict_items([('brand', 'Ford'), ('electric', False), ('year', 1964), ('colors', ['red', 'white', 'blue']), ('rang', 'kalo')])\n"
     ]
    }
   ],
   "source": [
    "# Get Items\n",
    "\n",
    "x = mydict.items()\n",
    "\n",
    "print(x)"
   ]
  },
  {
   "cell_type": "code",
   "execution_count": 100,
   "id": "e1afd497-f500-41fa-9433-96f6da8ac30c",
   "metadata": {},
   "outputs": [
    {
     "name": "stdout",
     "output_type": "stream",
     "text": [
      "Ford\n",
      "Mustang\n",
      "1964\n",
      "Ford\n",
      "Mustang\n",
      "1964\n"
     ]
    }
   ],
   "source": [
    "for x in thisdict.values():\n",
    "  print(x)\n",
    "\n",
    "# or\n",
    "\n",
    "for x in thisdict:\n",
    "  print(thisdict[x])"
   ]
  },
  {
   "cell_type": "code",
   "execution_count": 101,
   "id": "d087824b-4d9d-4ada-9372-b85b05f64d16",
   "metadata": {},
   "outputs": [
    {
     "name": "stdout",
     "output_type": "stream",
     "text": [
      "brand\n",
      "model\n",
      "year\n"
     ]
    }
   ],
   "source": [
    "for x in thisdict:\n",
    "  print(x)"
   ]
  },
  {
   "cell_type": "code",
   "execution_count": 102,
   "id": "c8e895b0-3818-4cb1-a9c0-2c337bc10928",
   "metadata": {},
   "outputs": [
    {
     "name": "stdout",
     "output_type": "stream",
     "text": [
      "brand\n",
      "model\n",
      "year\n"
     ]
    }
   ],
   "source": [
    "for x in thisdict.keys():\n",
    "  print(x)"
   ]
  },
  {
   "cell_type": "code",
   "execution_count": 103,
   "id": "9e458f19-f51f-496f-86ec-9d1e48b4b35a",
   "metadata": {},
   "outputs": [
    {
     "name": "stdout",
     "output_type": "stream",
     "text": [
      "brand Ford\n",
      "model Mustang\n",
      "year 1964\n"
     ]
    }
   ],
   "source": [
    "for x, y in thisdict.items():\n",
    "  print(x, y)"
   ]
  },
  {
   "attachments": {
    "8786a452-6d12-438a-a0f8-87df8867e61e.png": {
     "image/png": "[encoded data removed]"
    }
   },
   "cell_type": "markdown",
   "id": "a802560b-3b11-43c9-98df-6da19d624fb2",
   "metadata": {},
   "source": [
    "![image.png](attachment:8786a452-6d12-438a-a0f8-87df8867e61e.png)"
   ]
  },
  {
   "cell_type": "code",
   "execution_count": null,
   "id": "336d3cee-0e28-4cc4-98c9-d8b9acda54c1",
   "metadata": {},
   "outputs": [],
   "source": []
  }
 ],
 "metadata": {
  "kernelspec": {
   "display_name": "Python 3 (ipykernel)",
   "language": "python",
   "name": "python3"
  },
  "language_info": {
   "codemirror_mode": {
    "name": "ipython",
    "version": 3
   },
   "file_extension": ".py",
   "mimetype": "text/x-python",
   "name": "python",
   "nbconvert_exporter": "python",
   "pygments_lexer": "ipython3",
   "version": "3.10.9"
  }
 },
 "nbformat": 4,
 "nbformat_minor": 5
}
