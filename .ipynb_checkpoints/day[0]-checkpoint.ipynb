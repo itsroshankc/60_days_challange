{
 "cells": [
  {
   "cell_type": "markdown",
   "id": "4fd424da",
   "metadata": {},
   "source": [
    "<h1>Pyhon Day - 1 :"
   ]
  },
  {
   "cell_type": "markdown",
   "id": "eff52425",
   "metadata": {},
   "source": [
    "<h3>0#palindorme"
   ]
  },
  {
   "cell_type": "code",
   "execution_count": 2,
   "id": "428310ea",
   "metadata": {},
   "outputs": [
    {
     "name": "stdout",
     "output_type": "stream",
     "text": [
      "Enter a number a check whether its palindorme or not :121\n",
      "\n",
      " palindrome\n"
     ]
    }
   ],
   "source": [
    "num = int(input(\"Enter a number a check whether its palindorme or not :\"))\n",
    "og = num\n",
    "reverse = 0\n",
    "while (num>0) :\n",
    "    rem = num % 10\n",
    "    reverse = (reverse * 10)+rem\n",
    "    num = num // 10\n",
    "    \n",
    "if og == reverse :\n",
    "    print(\"\\n palindrome\")\n",
    "else:\n",
    "    print(\"Not palindrome\")\n",
    "    \n"
   ]
  }
 ],
 "metadata": {
  "kernelspec": {
   "display_name": "Python 3 (ipykernel)",
   "language": "python",
   "name": "python3"
  },
  "language_info": {
   "codemirror_mode": {
    "name": "ipython",
    "version": 3
   },
   "file_extension": ".py",
   "mimetype": "text/x-python",
   "name": "python",
   "nbconvert_exporter": "python",
   "pygments_lexer": "ipython3",
   "version": "3.10.9"
  }
 },
 "nbformat": 4,
 "nbformat_minor": 5
}
