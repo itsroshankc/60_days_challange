{
 "cells": [
  {
   "cell_type": "markdown",
   "id": "685d5f1f-5cdf-4019-b0f1-3121f8395e14",
   "metadata": {},
   "source": [
    "# Pyhon Day - 3 :"
   ]
  },
  {
   "cell_type": "markdown",
   "id": "0ac6c50f-878b-4524-83b3-60648a31d52c",
   "metadata": {},
   "source": [
    "<h3>Learning_syntax_of_Python :"
   ]
  },
  {
   "cell_type": "markdown",
   "id": "7e23f94f-2c2b-4201-945f-5fbe02c905e4",
   "metadata": {},
   "source": [
    "<h3>slef_practise"
   ]
  },
  {
   "cell_type": "code",
   "execution_count": 6,
   "id": "dc718c88-d626-4131-b074-bb24ee05170c",
   "metadata": {},
   "outputs": [
    {
     "name": "stdin",
     "output_type": "stream",
     "text": [
      "Enter 1st num : 3\n",
      "Enter 2nd num : 4\n"
     ]
    },
    {
     "name": "stdout",
     "output_type": "stream",
     "text": [
      "nothing to say you won the bet\n"
     ]
    }
   ],
   "source": [
    "x = int(input(\"Enter 1st num :\"))\n",
    "y = int(input(\"Enter 2nd num :\"))\n",
    "\n",
    "if x > y :\n",
    "    print(\"X is grater than y\")\n",
    "else :\n",
    "    print(\"nothing to say you won the bet\")"
   ]
  },
  {
   "cell_type": "code",
   "execution_count": 9,
   "id": "c4dc21dd-45da-489e-a840-e026e3e6d4f2",
   "metadata": {},
   "outputs": [
    {
     "name": "stdout",
     "output_type": "stream",
     "text": [
      "13\n"
     ]
    }
   ],
   "source": [
    "x = 10\n",
    "y = 11\n",
    "z = 13\n",
    "\n",
    "if x>y and x>z :\n",
    "    print(x)\n",
    "elif y>x and y>z :\n",
    "    print(y)\n",
    "else:\n",
    "    print(z)"
   ]
  },
  {
   "cell_type": "markdown",
   "id": "9f447f18-96d6-459b-b712-2b3b061ddedb",
   "metadata": {},
   "source": [
    "# type casting\n",
    "\n"
   ]
  },
  {
   "cell_type": "code",
   "execution_count": 11,
   "id": "482458d7-354d-438a-8b39-4923fe930a43",
   "metadata": {},
   "outputs": [
    {
     "name": "stdout",
     "output_type": "stream",
     "text": [
      "<class 'str'>\n",
      "<class 'int'>\n",
      "<class 'float'>\n"
     ]
    }
   ],
   "source": [
    "x = str(3.3)\n",
    "y = int(3.3)\n",
    "z = float(3)\n",
    "\n",
    "print(type(x))\n",
    "print(type(y))\n",
    "print(type(z))"
   ]
  },
  {
   "cell_type": "markdown",
   "id": "2bb607b6-63ad-41ec-ad36-090d02d398fc",
   "metadata": {},
   "source": [
    "# single quote double quotes and semi colon ? fu*k it\n",
    "\n",
    "String variables can be declared either by using single or double quotes.\n",
    "\n",
    "and python don't need semi colons at the end"
   ]
  },
  {
   "cell_type": "markdown",
   "id": "7b93ba82-13cd-4af1-a755-ffc414a46660",
   "metadata": {},
   "source": [
    "# Python is case sensetive\n",
    "\n",
    "a = 4\n",
    "\n",
    "A = \"miss\"\n",
    "\n",
    "<i>here \" A \" won't replace \" a \" instead two variables are made."
   ]
  },
  {
   "cell_type": "code",
   "execution_count": 14,
   "id": "bffeabdf-a7ee-4ff5-9ae4-d0d240b7bb00",
   "metadata": {},
   "outputs": [
    {
     "name": "stdout",
     "output_type": "stream",
     "text": [
      "4 apple\n"
     ]
    }
   ],
   "source": [
    "a = 4\n",
    "A = \"apple\"\n",
    "\n",
    "print(a,A)"
   ]
  },
  {
   "cell_type": "markdown",
   "id": "0334a804-9fbc-42d5-af8b-644aae6d25bb",
   "metadata": {},
   "source": [
    "# Many Values to Multiple Variables\n",
    "\n",
    "Python allows you to assign values to multiple variables in one line."
   ]
  },
  {
   "cell_type": "code",
   "execution_count": 16,
   "id": "8dabbda3-2763-444f-9c87-1305429848fa",
   "metadata": {},
   "outputs": [
    {
     "name": "stdout",
     "output_type": "stream",
     "text": [
      "banana 2\n"
     ]
    }
   ],
   "source": [
    "x,y=\"banana\",2\n",
    "print(x,y)"
   ]
  },
  {
   "cell_type": "markdown",
   "id": "0a31fa67-e1ae-4590-8858-6c3f5314fc6f",
   "metadata": {},
   "source": [
    "# One Value to Multiple Variables"
   ]
  },
  {
   "cell_type": "code",
   "execution_count": 23,
   "id": "88c9a897-0e09-4ad4-ad49-ad7011150701",
   "metadata": {},
   "outputs": [
    {
     "name": "stdout",
     "output_type": "stream",
     "text": [
      "Orange Orange Orange\n"
     ]
    }
   ],
   "source": [
    "x=y=z = \"Orange\"\n",
    "\n",
    "print(x,y,z)"
   ]
  },
  {
   "cell_type": "markdown",
   "id": "f6936e81-86b2-4188-bd91-76a6209bd166",
   "metadata": {},
   "source": [
    "# Unpack a Collection"
   ]
  },
  {
   "cell_type": "code",
   "execution_count": 25,
   "id": "8667ce2a-2f35-4cfe-b1e4-5a94d0859d19",
   "metadata": {},
   "outputs": [
    {
     "name": "stdout",
     "output_type": "stream",
     "text": [
      "['apple', 'ball', 2, 3, 4]\n",
      "apple ball 2 3 4\n"
     ]
    }
   ],
   "source": [
    "collection = [\"apple\",\"ball\",2,3,4,]\n",
    "a,b,c,d,e = collection\n",
    "print(collection)\n",
    "print(a,b,c,d,e)"
   ]
  },
  {
   "cell_type": "markdown",
   "id": "e0337a23-3ede-4876-b2ad-1917a014bc78",
   "metadata": {},
   "source": [
    "# Scopes and functions"
   ]
  },
  {
   "cell_type": "code",
   "execution_count": 27,
   "id": "04c0c714-572b-4764-98af-5f2fbea4e4aa",
   "metadata": {},
   "outputs": [
    {
     "name": "stdout",
     "output_type": "stream",
     "text": [
      "I'm local X\n",
      "I'm local X\n"
     ]
    }
   ],
   "source": [
    "#global_scoped_variable_X\n",
    "X = \"global X\"\n",
    "\n",
    "def myfunc() :\n",
    "    X = \"local X\"\n",
    "    print(\"I'm \"+X)\n",
    "myfunc()\n",
    "\n",
    "print(\"I'm \"+X)"
   ]
  },
  {
   "cell_type": "markdown",
   "id": "88d51e44-dc5f-4811-8612-9830495d61a1",
   "metadata": {},
   "source": [
    "# making a local variable to global\n",
    "\n",
    "just use\n",
    "\n",
    "    global X \n",
    "    X = \"local X\"\n",
    "    instead of X = \"local X\""
   ]
  },
  {
   "cell_type": "markdown",
   "id": "b872715c-6b00-401f-b364-dee6a4b76d5b",
   "metadata": {},
   "source": [
    "# data_Types_in_python"
   ]
  },
  {
   "attachments": {
    "708201ce-0f57-459d-aa17-7cec311f1ee2.png": {
     "image/png": "[encoded data removed]"
    }
   },
   "cell_type": "markdown",
   "id": "a2b4ff27-1fb7-4a36-97af-b9a2111f8833",
   "metadata": {},
   "source": [
    "![image.png](attachment:708201ce-0f57-459d-aa17-7cec311f1ee2.png)"
   ]
  },
  {
   "cell_type": "markdown",
   "id": "acde7b37-d3c0-442d-8387-e00f4291b375",
   "metadata": {},
   "source": [
    "# Number Guessing Game"
   ]
  },
  {
   "cell_type": "code",
   "execution_count": 1,
   "id": "44d1ce31-4a00-4dad-966b-c21d8c2f691d",
   "metadata": {},
   "outputs": [
    {
     "name": "stdout",
     "output_type": "stream",
     "text": [
      "Guess the number in 8 Chances : \n"
     ]
    },
    {
     "name": "stdin",
     "output_type": "stream",
     "text": [
      "Enter a no : 50\n"
     ]
    },
    {
     "name": "stdout",
     "output_type": "stream",
     "text": [
      "Please guess a higher number.\n"
     ]
    },
    {
     "name": "stdin",
     "output_type": "stream",
     "text": [
      "Enter a no : 80\n"
     ]
    },
    {
     "name": "stdout",
     "output_type": "stream",
     "text": [
      "Please guess a number lower number.\n"
     ]
    },
    {
     "name": "stdin",
     "output_type": "stream",
     "text": [
      "Enter a no : 60\n"
     ]
    },
    {
     "name": "stdout",
     "output_type": "stream",
     "text": [
      "Please guess a higher number.\n"
     ]
    },
    {
     "name": "stdin",
     "output_type": "stream",
     "text": [
      "Enter a no : 75\n"
     ]
    },
    {
     "name": "stdout",
     "output_type": "stream",
     "text": [
      "Please guess a number lower number.\n"
     ]
    },
    {
     "name": "stdin",
     "output_type": "stream",
     "text": [
      "Enter a no : 68\n"
     ]
    },
    {
     "name": "stdout",
     "output_type": "stream",
     "text": [
      "Please guess a higher number.\n"
     ]
    },
    {
     "name": "stdin",
     "output_type": "stream",
     "text": [
      "Enter a no : 73\n"
     ]
    },
    {
     "name": "stdout",
     "output_type": "stream",
     "text": [
      "Please guess a number lower number.\n"
     ]
    },
    {
     "name": "stdin",
     "output_type": "stream",
     "text": [
      "Enter a no : 71\n"
     ]
    },
    {
     "name": "stdout",
     "output_type": "stream",
     "text": [
      "Congratulations! You guessed it right.\n"
     ]
    }
   ],
   "source": [
    "import random\n",
    "x = random.randrange(1,100)\n",
    "\n",
    "print(\"Guess the number in 8 Chances : \")\n",
    "live = 8\n",
    "while live >=0 :\n",
    "    guess = int(input(\"Enter a no :\"))\n",
    "    if guess != x :\n",
    "        if x>guess :\n",
    "            print(\"Please guess a higher number.\")\n",
    "        else :\n",
    "            print(\"Please guess a number lower number.\")\n",
    "    else:\n",
    "        print(\"Congratulations! You guessed it right.\")\n",
    "        break\n",
    "    live-=1\n",
    "if (live == 0) :\n",
    "    print(\"life khatam! Game Over\")"
   ]
  },
  {
   "cell_type": "markdown",
   "id": "7eac3e91-83a8-492c-a034-15e86c25165e",
   "metadata": {},
   "source": [
    "# loops in python"
   ]
  },
  {
   "cell_type": "code",
   "execution_count": 7,
   "id": "5d8fdeb7-5716-4564-986f-f70a9274e96f",
   "metadata": {},
   "outputs": [
    {
     "name": "stdin",
     "output_type": "stream",
     "text": [
      "Enter a string : Nepal\n"
     ]
    },
    {
     "name": "stdout",
     "output_type": "stream",
     "text": [
      "5\n",
      "N\n",
      "e\n",
      "p\n",
      "a\n",
      "l\n"
     ]
    }
   ],
   "source": [
    "words = input(\"Enter a string :\")\n",
    "\n",
    "#to check length\n",
    "print(len(words))\n",
    "\n",
    "for x in words :\n",
    "    print(x)\n",
    "\n",
    "    "
   ]
  },
  {
   "cell_type": "code",
   "execution_count": 9,
   "id": "eca1eeb5-2a5d-415e-aa27-4ee5f26257ca",
   "metadata": {},
   "outputs": [
    {
     "name": "stdout",
     "output_type": "stream",
     "text": [
      "Yes xa bhanni word raixa message ma.\n"
     ]
    }
   ],
   "source": [
    "message = \"Ke xa sathi khabar hmmm\"\n",
    "if \"xa\" in message:\n",
    "    print(\"Yes xa bhanni word raixa message ma.\")"
   ]
  },
  {
   "cell_type": "markdown",
   "id": "e4cd19f7-244c-42f4-bbd9-cbc61b114171",
   "metadata": {},
   "source": [
    "<h1> Python - Slicing Strings"
   ]
  },
  {
   "cell_type": "code",
   "execution_count": 10,
   "id": "ca5c9fa3-3d5b-452a-befc-379471493193",
   "metadata": {},
   "outputs": [
    {
     "name": "stdout",
     "output_type": "stream",
     "text": [
      "llo\n"
     ]
    }
   ],
   "source": [
    "message = \"Hello Sansar\"\n",
    "#Get the characters from position 2 to position 5 (not included):\n",
    "print(message[2:5])"
   ]
  },
  {
   "cell_type": "code",
   "execution_count": 13,
   "id": "12ab0040-931e-4708-8747-08f40e317398",
   "metadata": {},
   "outputs": [
    {
     "name": "stdout",
     "output_type": "stream",
     "text": [
      "Hello\n"
     ]
    }
   ],
   "source": [
    "message=\"HelloSansar\"\n",
    "print(message[:5])\n",
    "#Note: The first character has index 0"
   ]
  },
  {
   "cell_type": "code",
   "execution_count": 15,
   "id": "82dd90a1-5263-42b0-9463-4fdbcb8b7b1c",
   "metadata": {},
   "outputs": [
    {
     "name": "stdout",
     "output_type": "stream",
     "text": [
      "lloSansar\n"
     ]
    }
   ],
   "source": [
    "message=\"HelloSansar\"\n",
    "#Get the characters from position 2,to the end:\n",
    "print(message[2:])"
   ]
  },
  {
   "cell_type": "markdown",
   "id": "2def4317-9d46-4a2f-9c03-c75bc2548ce3",
   "metadata": {},
   "source": [
    "<h3> python also supports -ve indexing"
   ]
  },
  {
   "attachments": {
    "cffde130-5d6f-4b52-868a-921b1ceecb05.png": {
     "image/png": "[encoded data removed]"
    }
   },
   "cell_type": "markdown",
   "id": "790f7c10-ce20-48bc-b5c0-2a5c82cc3d32",
   "metadata": {},
   "source": [
    "![image.png](attachment:cffde130-5d6f-4b52-868a-921b1ceecb05.png)"
   ]
  },
  {
   "cell_type": "code",
   "execution_count": 16,
   "id": "5877967f-ff02-489e-ab6b-d744eca4e9ae",
   "metadata": {},
   "outputs": [
    {
     "name": "stdout",
     "output_type": "stream",
     "text": [
      "ld \n"
     ]
    }
   ],
   "source": [
    "b=\"Hello, World ! \"\n",
    "print(b[-5: -2])"
   ]
  }
 ],
 "metadata": {
  "kernelspec": {
   "display_name": "Python 3 (ipykernel)",
   "language": "python",
   "name": "python3"
  },
  "language_info": {
   "codemirror_mode": {
    "name": "ipython",
    "version": 3
   },
   "file_extension": ".py",
   "mimetype": "text/x-python",
   "name": "python",
   "nbconvert_exporter": "python",
   "pygments_lexer": "ipython3",
   "version": "3.10.9"
  }
 },
 "nbformat": 4,
 "nbformat_minor": 5
}
