{
 "cells": [
  {
   "cell_type": "markdown",
   "id": "a8f48e7b",
   "metadata": {},
   "source": [
    "<h1>Pyhon Day - 2 :"
   ]
  },
  {
   "cell_type": "markdown",
   "id": "3ef9cadd",
   "metadata": {},
   "source": [
    "<h3>1#Functions_in_Python"
   ]
  },
  {
   "cell_type": "code",
   "execution_count": 1,
   "id": "a280399e",
   "metadata": {},
   "outputs": [
    {
     "name": "stdout",
     "output_type": "stream",
     "text": [
      "Hello World\n"
     ]
    }
   ],
   "source": [
    "def my_func():\n",
    "    print(\"Hello World\")\n",
    "    \n",
    "my_func()"
   ]
  },
  {
   "cell_type": "markdown",
   "id": "83a0b7f2",
   "metadata": {},
   "source": [
    "<h2>Passing Arguments"
   ]
  },
  {
   "cell_type": "code",
   "execution_count": 3,
   "id": "f1537429",
   "metadata": {},
   "outputs": [
    {
     "name": "stdout",
     "output_type": "stream",
     "text": [
      "Enter a num to check even or odd: 7\n",
      "Num is odd.\n"
     ]
    }
   ],
   "source": [
    "def func1(x):\n",
    "    print(\"Num is even\") if x % 2 == 0 else print(\"Num is odd.\")\n",
    "x=int(input(\"Enter a num to check even or odd: \"))\n",
    "func1(x)"
   ]
  },
  {
   "cell_type": "code",
   "execution_count": 4,
   "id": "ab3d6e68",
   "metadata": {},
   "outputs": [
    {
     "name": "stdout",
     "output_type": "stream",
     "text": [
      "Enter ur 1st name: roshan\n",
      "Enter ur last name: kc\n",
      "roshan  kc\n"
     ]
    }
   ],
   "source": [
    "def my_detail (fname,lname):\n",
    "    print(fname,\"\",lname)\n",
    "fname=input(\"Enter ur 1st name: \")\n",
    "lname=input(\"Enter ur last name: \")\n",
    "\n",
    "my_detail(fname,lname)"
   ]
  },
  {
   "cell_type": "markdown",
   "id": "c286c900",
   "metadata": {},
   "source": [
    "<h3>Arbitrary Arguments, *args</h3>\n",
    "\n",
    "If you do not know how many arguments that will be passed into your function, add a * before the parameter name in the function definition.\n",
    "\n",
    "This way the function will receive a tuple of arguments, and can access the items accordingly:"
   ]
  },
  {
   "cell_type": "code",
   "execution_count": 5,
   "id": "d3c8f64e",
   "metadata": {},
   "outputs": [
    {
     "name": "stdout",
     "output_type": "stream",
     "text": [
      "The youngest child is Linus\n"
     ]
    }
   ],
   "source": [
    "def my_function(*kids):\n",
    "  print(\"The youngest child is \" + kids[2])\n",
    "\n",
    "my_function(\"Emil\", \"Tobias\", \"Linus\",\"Lorem\",\"Epsom\")"
   ]
  },
  {
   "cell_type": "markdown",
   "id": "fa78b6f1",
   "metadata": {},
   "source": [
    "<h3>Keyword Arguments</h3>\n",
    "You can also send arguments with the key = value syntax.\n",
    "\n",
    "This way the order of the arguments does not matter."
   ]
  },
  {
   "cell_type": "code",
   "execution_count": 6,
   "id": "63ad2043",
   "metadata": {},
   "outputs": [
    {
     "name": "stdout",
     "output_type": "stream",
     "text": [
      "The youngest child is Linus\n"
     ]
    }
   ],
   "source": [
    "def my_function(child3, child2, child1):\n",
    "  print(\"The youngest child is \" + child3)\n",
    "\n",
    "my_function(child1 = \"Emil\", child2 = \"Tobias\", child3 = \"Linus\")"
   ]
  },
  {
   "cell_type": "markdown",
   "id": "ab2f2fe6",
   "metadata": {},
   "source": [
    "<h3>Arbitrary Keyword Arguments, **kwargs</h3>\n",
    "If you do not know how many keyword arguments that will be passed into your function, add two asterisk: ** before the parameter name in the function definition.\n",
    "\n",
    "This way the function will receive a dictionary of arguments, and can access the items accordingly:"
   ]
  },
  {
   "cell_type": "code",
   "execution_count": 7,
   "id": "6354c5f5",
   "metadata": {},
   "outputs": [
    {
     "name": "stdout",
     "output_type": "stream",
     "text": [
      "His last name is : K.C.\n",
      "His age is : 22\n"
     ]
    }
   ],
   "source": [
    "def my_func(**keys):\n",
    "    print(\"His last name is :\",keys['lname'])\n",
    "    print(\"His age is :\",keys['age'])\n",
    "\n",
    "my_func(fname=\"Roshan\",lname=\"K.C.\",age=\"22\")"
   ]
  },
  {
   "cell_type": "markdown",
   "id": "0cb78160",
   "metadata": {},
   "source": [
    "<h3>Default Parameter Value</h3>\n",
    "The following example shows how to use a default parameter value.\n",
    "\n",
    "If we call the function without argument, it uses the default value:"
   ]
  },
  {
   "cell_type": "code",
   "execution_count": 8,
   "id": "6cd804d0",
   "metadata": {},
   "outputs": [
    {
     "name": "stdout",
     "output_type": "stream",
     "text": [
      "I'm from:  Tadin\n",
      "I'm from:  Butwal\n",
      "I'm from:  HELLO WORLD\n"
     ]
    }
   ],
   "source": [
    "def my_home(address=\"Butwal\"):\n",
    "    print(\"I'm from: \",address)\n",
    "my_home(\"Tadin\")\n",
    "my_home()\n",
    "my_home(\"HELLO WORLD\")"
   ]
  },
  {
   "cell_type": "markdown",
   "id": "963667a8",
   "metadata": {},
   "source": [
    "<h3>Passing a List as an Argument</h3>\n",
    "\n",
    "You can send any data types of argument to a function (string, number, list, dictionary etc.), and it will be treated as the same data type inside the function.\n",
    "\n",
    "E.g. if you send a List as an argument, it will still be a List when it reaches the function:"
   ]
  },
  {
   "cell_type": "code",
   "execution_count": 9,
   "id": "73914b18",
   "metadata": {},
   "outputs": [
    {
     "name": "stdout",
     "output_type": "stream",
     "text": [
      "Playing Coding TestingRoms "
     ]
    }
   ],
   "source": [
    "items=[\"Playing\",\"Coding\",\"TestingRoms\"]\n",
    "\n",
    "def my_bucketList(items):\n",
    "    #print(items)\n",
    "    for x in items:\n",
    "        print(x,end=\" \")\n",
    "    \n",
    "my_bucketList(items)"
   ]
  },
  {
   "cell_type": "markdown",
   "id": "0405fced",
   "metadata": {},
   "source": [
    "<h3>Return Values</h3>\n",
    "\n",
    "To let a function return a value, use the return statement:"
   ]
  },
  {
   "cell_type": "code",
   "execution_count": 10,
   "id": "176fe27a",
   "metadata": {},
   "outputs": [
    {
     "name": "stdout",
     "output_type": "stream",
     "text": [
      "1st num: 1\n",
      "2nd num: 2\n",
      "3\n",
      "-1\n",
      "2\n",
      "0.5\n"
     ]
    }
   ],
   "source": [
    "def sum(x,y) : return x+y\n",
    "def diff(x,y) : return x-y\n",
    "def mul(x,y) : return x*y\n",
    "def div(x,y) : return x/y\n",
    "\n",
    "x = int(input(\"1st num: \"))\n",
    "y = int(input(\"2nd num: \"))\n",
    "\n",
    "print(sum(x,y))\n",
    "print(diff(x,y))\n",
    "print(mul(x,y))\n",
    "print(div(x,y))"
   ]
  },
  {
   "cell_type": "markdown",
   "id": "1b1ef9c7",
   "metadata": {},
   "source": [
    "to be continue....."
   ]
  }
 ],
 "metadata": {
  "kernelspec": {
   "display_name": "Python 3 (ipykernel)",
   "language": "python",
   "name": "python3"
  },
  "language_info": {
   "codemirror_mode": {
    "name": "ipython",
    "version": 3
   },
   "file_extension": ".py",
   "mimetype": "text/x-python",
   "name": "python",
   "nbconvert_exporter": "python",
   "pygments_lexer": "ipython3",
   "version": "3.10.9"
  }
 },
 "nbformat": 4,
 "nbformat_minor": 5
}
