{
 "cells": [
  {
   "cell_type": "markdown",
   "id": "754631bc-65df-47c6-9d36-682aada7f396",
   "metadata": {},
   "source": [
    "# Python Day 7"
   ]
  },
  {
   "cell_type": "markdown",
   "id": "50853b1e-d83e-45e9-aa42-61ab81d9b04a",
   "metadata": {},
   "source": [
    "## Python Conditions"
   ]
  },
  {
   "cell_type": "code",
   "execution_count": 1,
   "id": "e2e89b1a-07ad-4acf-8cfc-a4b0b6d15664",
   "metadata": {},
   "outputs": [],
   "source": [
    "a = 2\n",
    "b = 3"
   ]
  },
  {
   "cell_type": "code",
   "execution_count": 2,
   "id": "5f56fcee-69d9-4e36-93a4-92f2959dbb96",
   "metadata": {},
   "outputs": [
    {
     "name": "stdout",
     "output_type": "stream",
     "text": [
      "3\n"
     ]
    }
   ],
   "source": [
    "if a > b :\n",
    "    print(a)\n",
    "elif b > a :\n",
    "    print(b)"
   ]
  },
  {
   "cell_type": "code",
   "execution_count": 3,
   "id": "4919f999-6c15-47a1-b4b7-b780d6b86241",
   "metadata": {},
   "outputs": [
    {
     "name": "stdout",
     "output_type": "stream",
     "text": [
      "3\n"
     ]
    }
   ],
   "source": [
    "if a > b :\n",
    "    print(a)\n",
    "elif b > a :\n",
    "    print(b)\n",
    "else :\n",
    "    print(a,b)"
   ]
  },
  {
   "cell_type": "markdown",
   "id": "8ebec7a4-8bd1-4a4d-ba67-d3ac324b3a8a",
   "metadata": {},
   "source": [
    "## Short Hand If & If ... Else\n",
    "\n",
    "You can also have multiple else statements on the same line:"
   ]
  },
  {
   "cell_type": "code",
   "execution_count": 9,
   "id": "fbc3f855-069f-4666-bddb-e6d3b66a1373",
   "metadata": {},
   "outputs": [
    {
     "name": "stdout",
     "output_type": "stream",
     "text": [
      "3\n",
      "8\n"
     ]
    }
   ],
   "source": [
    "if a < b : print(b)\n",
    "\n",
    "x = 7\n",
    "y = 8\n",
    "print(x) if x > y else print(y)"
   ]
  },
  {
   "cell_type": "code",
   "execution_count": 14,
   "id": "9d224293-ac74-4c75-875a-46aa01fc8b6b",
   "metadata": {},
   "outputs": [
    {
     "name": "stdout",
     "output_type": "stream",
     "text": [
      "33 == 33\n"
     ]
    }
   ],
   "source": [
    "a = 33\n",
    "b = 33\n",
    "\n",
    "#multiple else statement : ternary operators\n",
    "print(a) if a>b else print(b) if b>a else print(a,\"==\",b)"
   ]
  },
  {
   "cell_type": "markdown",
   "id": "2a491151-b375-4043-8906-0e49d74ff970",
   "metadata": {},
   "source": [
    "## and or not"
   ]
  },
  {
   "cell_type": "code",
   "execution_count": 17,
   "id": "ce771436-d2db-458a-8fa5-3bb7f78747b4",
   "metadata": {},
   "outputs": [],
   "source": [
    "a = 23\n",
    "b = 34\n",
    "c = 13"
   ]
  },
  {
   "cell_type": "code",
   "execution_count": 18,
   "id": "81c45f71-c827-46c8-b8d8-6110a224568c",
   "metadata": {},
   "outputs": [],
   "source": [
    "if a>b and a>C :\n",
    "    print(a)"
   ]
  },
  {
   "cell_type": "code",
   "execution_count": 20,
   "id": "a6517277-1e9f-45dd-8b04-4b2070c2b27c",
   "metadata": {},
   "outputs": [
    {
     "name": "stdout",
     "output_type": "stream",
     "text": [
      "23 is greater to atleast one num.\n"
     ]
    }
   ],
   "source": [
    "if a>b or a>c:\n",
    "    print(a,\"is greater to atleast one num.\")"
   ]
  },
  {
   "cell_type": "code",
   "execution_count": 21,
   "id": "950ae5b6-e3b9-4e37-82a7-ade9ffa1665d",
   "metadata": {},
   "outputs": [
    {
     "name": "stdout",
     "output_type": "stream",
     "text": [
      "23 is not greater than 34\n"
     ]
    }
   ],
   "source": [
    "if not a>b :\n",
    "    print(a,\"is not greater than\",b)"
   ]
  },
  {
   "cell_type": "markdown",
   "id": "a2459939-6d05-440e-a356-44adc92c5793",
   "metadata": {},
   "source": [
    "# <p style=\"color:red\">The pass Statement"
   ]
  },
  {
   "cell_type": "code",
   "execution_count": 22,
   "id": "c167622d-4af7-4178-8811-75ce5a5853a7",
   "metadata": {},
   "outputs": [],
   "source": [
    "a = 33\n",
    "b = 200\n",
    "\n",
    "if b > a:\n",
    "  pass"
   ]
  },
  {
   "cell_type": "code",
   "execution_count": null,
   "id": "0e1a4594-0c8c-463f-b2fb-24ffa4e41b4d",
   "metadata": {},
   "outputs": [],
   "source": []
  },
  {
   "cell_type": "code",
   "execution_count": null,
   "id": "c94a0961-76f6-4882-be89-ebf0efce7f7f",
   "metadata": {},
   "outputs": [],
   "source": []
  },
  {
   "cell_type": "code",
   "execution_count": null,
   "id": "eb700069-f280-4f0c-b2a8-4c6bcb1e1bb4",
   "metadata": {},
   "outputs": [],
   "source": []
  },
  {
   "cell_type": "markdown",
   "id": "7b16a033-27ae-44b9-8546-81aaf5630235",
   "metadata": {},
   "source": [
    "# LOOPINGS\n",
    "\n",
    "1. while loops\n",
    "2. for loops"
   ]
  },
  {
   "cell_type": "markdown",
   "id": "397ac687-b349-4db0-85d7-f74136901f8d",
   "metadata": {},
   "source": [
    "## While loop()"
   ]
  },
  {
   "cell_type": "code",
   "execution_count": 26,
   "id": "88773be0-afc8-41a7-a0b0-5f315782e6d2",
   "metadata": {},
   "outputs": [
    {
     "name": "stdin",
     "output_type": "stream",
     "text": [
      " 15\n"
     ]
    },
    {
     "name": "stdout",
     "output_type": "stream",
     "text": [
      "Even no numbers upto 15\n",
      "2\n",
      "4\n",
      "6\n",
      "8\n",
      "10\n",
      "12\n",
      "14\n"
     ]
    }
   ],
   "source": [
    "x = int(input())\n",
    "i = 1\n",
    "print(\"Even no numbers upto\",x)\n",
    "while i < x:\n",
    "    if i % 2 == 0 : print(i)\n",
    "    i+=1"
   ]
  },
  {
   "cell_type": "markdown",
   "id": "fac0be26-77da-4712-9631-8fec419993ad",
   "metadata": {},
   "source": [
    "## For Loops"
   ]
  },
  {
   "cell_type": "code",
   "execution_count": 28,
   "id": "06f126d9-1866-43bf-a748-f977f32a83b4",
   "metadata": {},
   "outputs": [
    {
     "name": "stdin",
     "output_type": "stream",
     "text": [
      " 3\n"
     ]
    },
    {
     "name": "stdout",
     "output_type": "stream",
     "text": [
      "0\n",
      "1\n",
      "2\n"
     ]
    }
   ],
   "source": [
    "a = int(input())\n",
    "\n",
    "for x in range(a) :\n",
    "    print(x)"
   ]
  },
  {
   "cell_type": "code",
   "execution_count": 29,
   "id": "1270d178-8b71-4769-b7b7-10d9e3e7752a",
   "metadata": {},
   "outputs": [
    {
     "name": "stdout",
     "output_type": "stream",
     "text": [
      "b\n",
      "a\n",
      "n\n",
      "a\n",
      "n\n",
      "a\n"
     ]
    }
   ],
   "source": [
    "for x in \"banana\":\n",
    "    print(x)"
   ]
  },
  {
   "cell_type": "code",
   "execution_count": 30,
   "id": "96e66082-e014-4d95-8cc3-b58720c144ee",
   "metadata": {},
   "outputs": [
    {
     "name": "stdout",
     "output_type": "stream",
     "text": [
      "apple\n",
      "banana\n",
      "cat\n"
     ]
    }
   ],
   "source": [
    "mylist = [\"apple\",\"banana\",\"cat\"]\n",
    "\n",
    "for x in mylist:\n",
    "    print(x)"
   ]
  },
  {
   "cell_type": "markdown",
   "id": "9dc1cdeb-d2e1-4297-aa65-d5bd8a913f28",
   "metadata": {},
   "source": [
    "### The break Statement"
   ]
  },
  {
   "cell_type": "code",
   "execution_count": 37,
   "id": "cbe2814b-ece7-4c8c-8ddd-31cd84881d77",
   "metadata": {},
   "outputs": [
    {
     "name": "stdout",
     "output_type": "stream",
     "text": [
      "ram\n",
      "shyam\n",
      "hari\n",
      "match found\n"
     ]
    }
   ],
   "source": [
    "# find if roshan is in class\n",
    "\n",
    "mylist = [\"ram\",\"shyam\",\"hari\",\"roshan\",\"sulav\",\"lilu\"]\n",
    "\n",
    "for x in mylist :\n",
    "    if x == \"roshan\":\n",
    "        print(\"match found\")\n",
    "        break\n",
    "    print(x)"
   ]
  },
  {
   "cell_type": "code",
   "execution_count": 38,
   "id": "b3e633b1-0f48-4433-a8fe-893c1521e5df",
   "metadata": {},
   "outputs": [
    {
     "name": "stdout",
     "output_type": "stream",
     "text": [
      "ram\n",
      "shyam\n",
      "hari\n",
      "sulav\n",
      "lilu\n"
     ]
    }
   ],
   "source": [
    "# to skip roshan from printing\n",
    "\n",
    "for x in mylist:\n",
    "    if x == \"roshan\":\n",
    "        continue\n",
    "    print(x)"
   ]
  },
  {
   "cell_type": "markdown",
   "id": "abc16b0d-ce9e-4e93-8a8a-e9c708078af3",
   "metadata": {},
   "source": [
    "### Range function \n",
    "\n",
    "The range() function defaults to increment the sequence by 1, however it is possible to specify the increment value by adding a third parameter: range(2, 30, 3):<br/>\n",
    "\n",
    "range(6) i.e. 0 to 5 <br/>\n",
    "range(3,6) i.e. 3 to 5 <br/>\n",
    "range (0,6,2) i.e 0 to 5 step 2 <br/>"
   ]
  },
  {
   "cell_type": "code",
   "execution_count": 39,
   "id": "0430b8ce-eb21-4554-b96c-510242c11a54",
   "metadata": {},
   "outputs": [
    {
     "name": "stdout",
     "output_type": "stream",
     "text": [
      "0\n",
      "2\n",
      "4\n",
      "6\n",
      "8\n"
     ]
    }
   ],
   "source": [
    "for x in range(0,10,2):\n",
    "    print(x)"
   ]
  },
  {
   "cell_type": "markdown",
   "id": "2f0c1328-e6eb-49b8-8c1d-db537bd6a350",
   "metadata": {},
   "source": [
    "## Else in For Loop"
   ]
  },
  {
   "cell_type": "code",
   "execution_count": 41,
   "id": "31877734-5168-4289-8ca2-0d80d5ae5c86",
   "metadata": {},
   "outputs": [
    {
     "name": "stdout",
     "output_type": "stream",
     "text": [
      "0\n",
      "3\n",
      "6\n",
      "9\n",
      "Finally Finished\n"
     ]
    }
   ],
   "source": [
    "for x in range(0,10,3):\n",
    "    print(x)\n",
    "else:\n",
    "    print(\"Finally Finished\")"
   ]
  },
  {
   "cell_type": "markdown",
   "id": "a25a3646-571a-44ba-92f0-f17c6dd2744d",
   "metadata": {},
   "source": [
    "### The pass Statement"
   ]
  },
  {
   "cell_type": "code",
   "execution_count": 42,
   "id": "e9d269df-99d9-488d-b727-fdfc87b24272",
   "metadata": {},
   "outputs": [],
   "source": [
    "for x in [0,1,2]:\n",
    "    pass"
   ]
  },
  {
   "cell_type": "code",
   "execution_count": null,
   "id": "a1a17509-cfb5-4c44-9a19-56e163b339d9",
   "metadata": {},
   "outputs": [],
   "source": []
  },
  {
   "cell_type": "code",
   "execution_count": 44,
   "id": "c5e09c4b-820c-481d-8b6b-dc41d2399efb",
   "metadata": {},
   "outputs": [
    {
     "name": "stdout",
     "output_type": "stream",
     "text": [
      "5 6\n",
      "6 5\n"
     ]
    }
   ],
   "source": [
    "x = 5\n",
    "y = 6\n",
    "\n",
    "print(x,y)\n",
    "\n",
    "x,y = y,x\n",
    "\n",
    "print(x,y)"
   ]
  },
  {
   "cell_type": "code",
   "execution_count": null,
   "id": "ca8a0480-17b2-4e13-b36f-7acfa57882d2",
   "metadata": {},
   "outputs": [],
   "source": []
  },
  {
   "cell_type": "markdown",
   "id": "432ff1ec-7e52-4fd0-8238-a10edfa9decd",
   "metadata": {},
   "source": [
    "# Python Functions"
   ]
  },
  {
   "cell_type": "code",
   "execution_count": 46,
   "id": "1db3200a-e174-42c1-8631-08d35dd397bf",
   "metadata": {},
   "outputs": [
    {
     "name": "stdout",
     "output_type": "stream",
     "text": [
      "helloworld\n"
     ]
    }
   ],
   "source": [
    "# defining a function with def name()\n",
    "def myfn():\n",
    "    print(\"helloworld\")\n",
    "    \n",
    "#calling a function\n",
    "myfn()"
   ]
  },
  {
   "cell_type": "code",
   "execution_count": 47,
   "id": "cbf5ecc4-134e-4d59-9d1d-6e8c98654544",
   "metadata": {},
   "outputs": [
    {
     "name": "stdin",
     "output_type": "stream",
     "text": [
      "Enter naam Roshan\n"
     ]
    },
    {
     "name": "stdout",
     "output_type": "stream",
     "text": [
      "RoshanK.C.\n"
     ]
    }
   ],
   "source": [
    "# Arguments\n",
    "\n",
    "def myfn(fname):\n",
    "    print(fname + \"K.C.\")\n",
    "\n",
    "naam = input(\"Enter naam\")\n",
    "myfn(naam)\n"
   ]
  },
  {
   "cell_type": "markdown",
   "id": "82e3ce14-7cef-402c-a467-acef53ee3ced",
   "metadata": {},
   "source": [
    "## Arguments, *args\n",
    "\n",
    "If you do not know how many arguments that will be passed into your function, add a * before the parameter name in the function definition.\n",
    "\n",
    "This way the function will receive a tuple of arguments, and can access the items accordingly:"
   ]
  },
  {
   "cell_type": "code",
   "execution_count": 50,
   "id": "ec82a3a7-5553-4074-9699-a0a974e280a4",
   "metadata": {},
   "outputs": [
    {
     "name": "stdout",
     "output_type": "stream",
     "text": [
      "ball\n"
     ]
    }
   ],
   "source": [
    "def myfn(*data):\n",
    "    print(data[1])\n",
    "\n",
    "myfn(\"apple\",\"ball\",\"cat\")"
   ]
  },
  {
   "cell_type": "markdown",
   "id": "f82832fa-2dd5-43a1-b646-4ed94ce8574e",
   "metadata": {},
   "source": [
    "## Keyword Arguments **kwargs"
   ]
  },
  {
   "cell_type": "code",
   "execution_count": 51,
   "id": "4d73c35f-8ae0-448a-b821-bbf84f141431",
   "metadata": {},
   "outputs": [
    {
     "name": "stdout",
     "output_type": "stream",
     "text": [
      "hello world\n"
     ]
    }
   ],
   "source": [
    "def myfn(ch1,ch2):\n",
    "    print(ch1,ch2)\n",
    "myfn(ch1=\"hello\",ch2=\"world\")"
   ]
  },
  {
   "cell_type": "code",
   "execution_count": 54,
   "id": "9b2c3ae3-fcea-46a0-8a7d-322d55e79576",
   "metadata": {},
   "outputs": [
    {
     "name": "stdout",
     "output_type": "stream",
     "text": [
      "hello world\n"
     ]
    }
   ],
   "source": [
    "# Arbitrary Keyword Arguments, **kwargs\n",
    "\n",
    "def myfn(**chs):\n",
    "    print(chs[\"ch1\"],chs[\"ch2\"])\n",
    "myfn(ch1=\"hello\",ch2=\"world\")"
   ]
  },
  {
   "cell_type": "code",
   "execution_count": null,
   "id": "54c75777-ab77-4671-a389-73fe0d4f4c8f",
   "metadata": {},
   "outputs": [],
   "source": []
  }
 ],
 "metadata": {
  "kernelspec": {
   "display_name": "Python 3 (ipykernel)",
   "language": "python",
   "name": "python3"
  },
  "language_info": {
   "codemirror_mode": {
    "name": "ipython",
    "version": 3
   },
   "file_extension": ".py",
   "mimetype": "text/x-python",
   "name": "python",
   "nbconvert_exporter": "python",
   "pygments_lexer": "ipython3",
   "version": "3.10.9"
  }
 },
 "nbformat": 4,
 "nbformat_minor": 5
}
