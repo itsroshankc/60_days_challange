{
 "cells": [
  {
   "cell_type": "markdown",
   "id": "b23fa175-e2ce-4e5a-939a-d9fe2b8c2811",
   "metadata": {},
   "source": [
    "# Python Day 8\n",
    "\n",
    "Python Classes and Objects\n",
    "\n",
    "Python is an object oriented programming language.\n",
    "\n",
    "Almost everything in Python is an object, with its properties and methods.\n",
    "\n",
    "A Class is like blueprint for creating objects."
   ]
  },
  {
   "cell_type": "markdown",
   "id": "2e44c9f3-5c1b-4c3d-9de2-ddb5df154586",
   "metadata": {},
   "source": [
    "## Creating class in python"
   ]
  },
  {
   "cell_type": "code",
   "execution_count": 6,
   "id": "9cc31f77-b666-4afd-a7be-5bf32046c0ef",
   "metadata": {},
   "outputs": [
    {
     "name": "stdout",
     "output_type": "stream",
     "text": [
      "Ram\n"
     ]
    }
   ],
   "source": [
    "# create class named CSIT 7th\n",
    "\n",
    "class csit7th :\n",
    "    name = \"Ram\"\n",
    "\n",
    "st1 = csit7th()\n",
    "print(st1.name)\n",
    "\n",
    "# sily example but in real we dont use classes like this"
   ]
  },
  {
   "cell_type": "markdown",
   "id": "a1c4c7a6-d370-424d-94ec-c2afcd3ba839",
   "metadata": {},
   "source": [
    "## The __init__() Function\n",
    "\n",
    "All classes have a function called __init__(), which is always executed when the class is being initiated.\n",
    "\n",
    "Use the __init__() function to assign values to object properties, or other operations that are necessary to do when the object is being created:"
   ]
  },
  {
   "cell_type": "code",
   "execution_count": 11,
   "id": "62281f33-851f-4bd7-a341-ac9d89aec2c5",
   "metadata": {},
   "outputs": [
    {
     "name": "stdout",
     "output_type": "stream",
     "text": [
      "Ram 25 Manigram\n",
      "Sulav 22 Devdaha\n"
     ]
    }
   ],
   "source": [
    "# Create a class named Person, use the __init__()\n",
    "# function to assign values for name and age:\n",
    "class Person :\n",
    "    def __init__(self,naam,umer,pata):\n",
    "        self.name = naam\n",
    "        self.age = umer\n",
    "        self.address = pata\n",
    "\n",
    "person1 = Person(\"Ram\",25,\"Manigram\")\n",
    "person2 = Person(\"Sulav\",22,\"Devdaha\")\n",
    "\n",
    "print(person1.name,person1.age,person1.address)\n",
    "print(person2.name,person2.age,person2.address)"
   ]
  },
  {
   "cell_type": "markdown",
   "id": "77de8a6b-9333-40b5-b2df-02c226f0aca8",
   "metadata": {},
   "source": [
    "### Note: The __init__() function is called automatically every time the class is being used to create a new object."
   ]
  },
  {
   "cell_type": "markdown",
   "id": "00153013-3d74-4908-80ba-c773a8df3aaf",
   "metadata": {},
   "source": [
    "## The __str__() Function\n",
    "The __str__() function controls what should be returned when the class object is represented as a string.\n",
    "\n",
    "If the __str__() function is not set, the string representation of the object is returned:"
   ]
  },
  {
   "cell_type": "code",
   "execution_count": 23,
   "id": "2df9bde1-87da-4cc3-bbab-e02a9d843a6d",
   "metadata": {},
   "outputs": [
    {
     "name": "stdout",
     "output_type": "stream",
     "text": [
      "Sulav Web_Developer 22\n",
      "Ramu Hecker 26\n"
     ]
    }
   ],
   "source": [
    "# The string representation of an object WITH \n",
    "# the __str__() function:\n",
    "\n",
    "class Person:\n",
    "    # the object\n",
    "    def __init__(self,naam,kaam,umer):\n",
    "        self.name = naam\n",
    "        self.profession = kaam\n",
    "        self.age = umer\n",
    "    # self returining function\n",
    "    def __str__(self):\n",
    "        return f\"{self.name}{self.profession}{self.age}\"\n",
    "\n",
    "per1 = Person(\"Sulav \",\"Web_Developer \",22)\n",
    "per2 = Person(\"Ramu \",\"Hecker \",26)\n",
    "\n",
    "print(per1)\n",
    "print(per2)"
   ]
  },
  {
   "cell_type": "markdown",
   "id": "3e4951f7-096f-4da0-8651-83adfc25f696",
   "metadata": {},
   "source": [
    "# Object Methods\n",
    "\n",
    "Insert a function that prints a greeting, and execute it on the p1 object:"
   ]
  },
  {
   "cell_type": "code",
   "execution_count": 28,
   "id": "6908e133-709b-4048-b5a7-05338a55ec45",
   "metadata": {},
   "outputs": [
    {
     "name": "stdout",
     "output_type": "stream",
     "text": [
      "Hello Ramu\n",
      "Hello Hari\n"
     ]
    }
   ],
   "source": [
    "class Person:\n",
    "    def __init__(self,name,age):\n",
    "        self.name=name\n",
    "        self.age=age\n",
    "    \n",
    "    def myfunc(self):\n",
    "        print(\"Hello \"+self.name)\n",
    "p1 = Person(\"Ramu\",26)\n",
    "p2 = Person(\"Hari\",23)\n",
    "\n",
    "p1.myfunc()\n",
    "p2.myfunc()"
   ]
  },
  {
   "cell_type": "code",
   "execution_count": 4,
   "id": "c76ec645-e0c6-4948-8520-f3b87952ab71",
   "metadata": {},
   "outputs": [
    {
     "name": "stdout",
     "output_type": "stream",
     "text": [
      "Roshan 14534\n",
      "Ramu 14533\n"
     ]
    }
   ],
   "source": [
    "class csit:\n",
    "    def __init__(self,name,sno):\n",
    "        self.name = name\n",
    "        self.rollno = sno\n",
    "    def __str__(self):\n",
    "        return f\"{self.name}{self.rollno}\"\n",
    "\n",
    "st1 = csit(\"Roshan \",14534)\n",
    "st2 = csit(\"Ramu \",14533)\n",
    "\n",
    "print(st1)\n",
    "print(st2)"
   ]
  },
  {
   "cell_type": "markdown",
   "id": "d1e73679-b3e9-47da-9395-e1cc20ac9c7e",
   "metadata": {},
   "source": [
    "### classes syntax practise"
   ]
  },
  {
   "cell_type": "code",
   "execution_count": 6,
   "id": "9e09cde3-e5d9-4da7-aa7d-c75f6d474707",
   "metadata": {},
   "outputs": [
    {
     "name": "stdout",
     "output_type": "stream",
     "text": [
      "Shyam 1 23\n",
      "Hari 2 21\n",
      "Sita 3 21\n"
     ]
    }
   ],
   "source": [
    "class class10:\n",
    "    def __init__(self,name,roll,age):\n",
    "        self.name = name\n",
    "        self.roll = roll\n",
    "        self.age = age\n",
    "    def __str__(self):\n",
    "        return f\"{self.name} {self.roll} {self.age}\"\n",
    "\n",
    "st1 = class10(\"Shyam\",1,23)\n",
    "st2 = class10(\"Hari\",2,21)\n",
    "st3 = class10(\"Sita\",3,21)\n",
    "\n",
    "print(st1)\n",
    "print(st2)\n",
    "print(st3)"
   ]
  },
  {
   "cell_type": "markdown",
   "id": "28034490-035e-46d0-844c-b0bcd11ed960",
   "metadata": {},
   "source": [
    "# Python Inheritance\n",
    "\n",
    "https://www.w3schools.com/python/python_inheritance.asp"
   ]
  },
  {
   "cell_type": "code",
   "execution_count": 10,
   "id": "90307c98-51f3-4d28-94ac-73593ee4e411",
   "metadata": {},
   "outputs": [
    {
     "name": "stdout",
     "output_type": "stream",
     "text": [
      "Ram\n",
      "23\n"
     ]
    }
   ],
   "source": [
    "class person:\n",
    "    def __init__(self,name,age):\n",
    "        self.name = name\n",
    "        self.age = age\n",
    "    def showname(self):\n",
    "        print(self.name)\n",
    "    def showage(self):\n",
    "        print(self.age)\n",
    "        \n",
    "class student(person):\n",
    "    def __init__(self,name,age):\n",
    "        person.__init__(self,name,age)\n",
    "\n",
    "st1 = student(\"Ram\",23)\n",
    "\n",
    "st1.showname()\n",
    "st1.showage()"
   ]
  },
  {
   "cell_type": "code",
   "execution_count": 14,
   "id": "6dc53aa4-e629-4747-9579-920a62f0eef9",
   "metadata": {},
   "outputs": [
    {
     "name": "stdout",
     "output_type": "stream",
     "text": [
      "male\n",
      "Roshan\n"
     ]
    }
   ],
   "source": [
    "class human:\n",
    "    def __init__ (self,name,color,gender,weight,age):\n",
    "        self.name = name\n",
    "        self.skintone = color\n",
    "        self.gender = gender\n",
    "        self.weight = weight\n",
    "        self.age = age\n",
    "    def showname(self):\n",
    "        print(self.name)\n",
    "    def showskintone(self):\n",
    "        print(self.skintone)\n",
    "    def showgender(self):\n",
    "        print(self.gender)\n",
    "    def showweight(self):\n",
    "        print(self.weight)\n",
    "    def showage(self):\n",
    "        print(self.age)\n",
    "\n",
    "class men(human):\n",
    "    def __init__(self,name,color,gender,weight,age):\n",
    "        human.__init__(self,name,color,gender,weight,age)\n",
    "\n",
    "human1 = men(\"Roshan\",\"White\",\"male\",55,22)\n",
    "human1.showgender()\n",
    "human1.showname()"
   ]
  },
  {
   "cell_type": "code",
   "execution_count": null,
   "id": "9be85a4f-79ab-4038-918a-51ce9f8e9b67",
   "metadata": {},
   "outputs": [],
   "source": []
  }
 ],
 "metadata": {
  "kernelspec": {
   "display_name": "Python 3 (ipykernel)",
   "language": "python",
   "name": "python3"
  },
  "language_info": {
   "codemirror_mode": {
    "name": "ipython",
    "version": 3
   },
   "file_extension": ".py",
   "mimetype": "text/x-python",
   "name": "python",
   "nbconvert_exporter": "python",
   "pygments_lexer": "ipython3",
   "version": "3.10.9"
  }
 },
 "nbformat": 4,
 "nbformat_minor": 5
}
