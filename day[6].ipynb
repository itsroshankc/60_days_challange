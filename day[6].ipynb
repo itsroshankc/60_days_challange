{
 "cells": [
  {
   "cell_type": "markdown",
   "id": "754631bc-65df-47c6-9d36-682aada7f396",
   "metadata": {},
   "source": [
    "# Python Day 7"
   ]
  },
  {
   "cell_type": "markdown",
   "id": "50853b1e-d83e-45e9-aa42-61ab81d9b04a",
   "metadata": {},
   "source": [
    "## Python Conditions"
   ]
  },
  {
   "cell_type": "code",
   "execution_count": 1,
   "id": "e2e89b1a-07ad-4acf-8cfc-a4b0b6d15664",
   "metadata": {},
   "outputs": [],
   "source": [
    "a = 2\n",
    "b = 3"
   ]
  },
  {
   "cell_type": "code",
   "execution_count": 2,
   "id": "5f56fcee-69d9-4e36-93a4-92f2959dbb96",
   "metadata": {},
   "outputs": [
    {
     "name": "stdout",
     "output_type": "stream",
     "text": [
      "3\n"
     ]
    }
   ],
   "source": [
    "if a > b :\n",
    "    print(a)\n",
    "elif b > a :\n",
    "    print(b)"
   ]
  },
  {
   "cell_type": "code",
   "execution_count": 3,
   "id": "4919f999-6c15-47a1-b4b7-b780d6b86241",
   "metadata": {},
   "outputs": [
    {
     "name": "stdout",
     "output_type": "stream",
     "text": [
      "3\n"
     ]
    }
   ],
   "source": [
    "if a > b :\n",
    "    print(a)\n",
    "elif b > a :\n",
    "    print(b)\n",
    "else :\n",
    "    print(a,b)"
   ]
  },
  {
   "cell_type": "markdown",
   "id": "8ebec7a4-8bd1-4a4d-ba67-d3ac324b3a8a",
   "metadata": {},
   "source": [
    "## Short Hand If & If ... Else\n",
    "\n",
    "You can also have multiple else statements on the same line:"
   ]
  },
  {
   "cell_type": "code",
   "execution_count": 9,
   "id": "fbc3f855-069f-4666-bddb-e6d3b66a1373",
   "metadata": {},
   "outputs": [
    {
     "name": "stdout",
     "output_type": "stream",
     "text": [
      "3\n",
      "8\n"
     ]
    }
   ],
   "source": [
    "if a < b : print(b)\n",
    "\n",
    "x = 7\n",
    "y = 8\n",
    "print(x) if x > y else print(y)"
   ]
  },
  {
   "cell_type": "code",
   "execution_count": 14,
   "id": "9d224293-ac74-4c75-875a-46aa01fc8b6b",
   "metadata": {},
   "outputs": [
    {
     "name": "stdout",
     "output_type": "stream",
     "text": [
      "33 == 33\n"
     ]
    }
   ],
   "source": [
    "a = 33\n",
    "b = 33\n",
    "\n",
    "#multiple else statement : ternary operators\n",
    "print(a) if a>b else print(b) if b>a else print(a,\"==\",b)"
   ]
  },
  {
   "cell_type": "markdown",
   "id": "2a491151-b375-4043-8906-0e49d74ff970",
   "metadata": {},
   "source": [
    "## and or not"
   ]
  },
  {
   "cell_type": "code",
   "execution_count": 17,
   "id": "ce771436-d2db-458a-8fa5-3bb7f78747b4",
   "metadata": {},
   "outputs": [],
   "source": [
    "a = 23\n",
    "b = 34\n",
    "c = 13"
   ]
  },
  {
   "cell_type": "code",
   "execution_count": 18,
   "id": "81c45f71-c827-46c8-b8d8-6110a224568c",
   "metadata": {},
   "outputs": [],
   "source": [
    "if a>b and a>C :\n",
    "    print(a)"
   ]
  },
  {
   "cell_type": "code",
   "execution_count": 20,
   "id": "a6517277-1e9f-45dd-8b04-4b2070c2b27c",
   "metadata": {},
   "outputs": [
    {
     "name": "stdout",
     "output_type": "stream",
     "text": [
      "23 is greater to atleast one num.\n"
     ]
    }
   ],
   "source": [
    "if a>b or a>c:\n",
    "    print(a,\"is greater to atleast one num.\")"
   ]
  },
  {
   "cell_type": "code",
   "execution_count": 21,
   "id": "950ae5b6-e3b9-4e37-82a7-ade9ffa1665d",
   "metadata": {},
   "outputs": [
    {
     "name": "stdout",
     "output_type": "stream",
     "text": [
      "23 is not greater than 34\n"
     ]
    }
   ],
   "source": [
    "if not a>b :\n",
    "    print(a,\"is not greater than\",b)"
   ]
  },
  {
   "cell_type": "markdown",
   "id": "a2459939-6d05-440e-a356-44adc92c5793",
   "metadata": {},
   "source": [
    "# <p style=\"color:red\">The pass Statement"
   ]
  },
  {
   "cell_type": "code",
   "execution_count": 22,
   "id": "c167622d-4af7-4178-8811-75ce5a5853a7",
   "metadata": {},
   "outputs": [],
   "source": [
    "a = 33\n",
    "b = 200\n",
    "\n",
    "if b > a:\n",
    "  pass"
   ]
  },
  {
   "cell_type": "code",
   "execution_count": null,
   "id": "0e1a4594-0c8c-463f-b2fb-24ffa4e41b4d",
   "metadata": {},
   "outputs": [],
   "source": []
  }
 ],
 "metadata": {
  "kernelspec": {
   "display_name": "Python 3 (ipykernel)",
   "language": "python",
   "name": "python3"
  },
  "language_info": {
   "codemirror_mode": {
    "name": "ipython",
    "version": 3
   },
   "file_extension": ".py",
   "mimetype": "text/x-python",
   "name": "python",
   "nbconvert_exporter": "python",
   "pygments_lexer": "ipython3",
   "version": "3.10.9"
  }
 },
 "nbformat": 4,
 "nbformat_minor": 5
}
